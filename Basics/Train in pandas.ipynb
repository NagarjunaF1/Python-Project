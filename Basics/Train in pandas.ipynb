{
 "cells": [
  {
   "cell_type": "code",
   "execution_count": 8,
   "id": "initial_id",
   "metadata": {
    "collapsed": true,
    "ExecuteTime": {
     "end_time": "2024-05-30T08:52:10.798940Z",
     "start_time": "2024-05-30T08:52:10.791568Z"
    }
   },
   "outputs": [],
   "source": [
    "import pandas as pd\n",
    "import openpyxl\n",
    "filepath='customers-100.csv'\n",
    "efilepath='DataSets/All-CSV-ML-Data-Files-Download-master/Data - Single Worksheet.xlsx'"
   ]
  },
  {
   "cell_type": "markdown",
   "source": [
    "### Read a CSV file and use head to display the first 5 rows"
   ],
   "metadata": {
    "collapsed": false
   },
   "id": "a14fa07fb2d63492"
  },
  {
   "cell_type": "code",
   "outputs": [
    {
     "name": "stdout",
     "output_type": "stream",
     "text": [
      "   Index      Customer Id First Name Last Name  \\\n",
      "0      1  DD37Cf93aecA6Dc     Sheryl    Baxter   \n",
      "1      2  1Ef7b82A4CAAD10    Preston    Lozano   \n",
      "2      3  6F94879bDAfE5a6        Roy     Berry   \n",
      "3      4  5Cef8BFA16c5e3c      Linda     Olsen   \n",
      "4      5  053d585Ab6b3159     Joanna    Bender   \n",
      "\n",
      "                           Company               City  \\\n",
      "0                  Rasmussen Group       East Leonard   \n",
      "1                      Vega-Gentry  East Jimmychester   \n",
      "2                    Murillo-Perry      Isabelborough   \n",
      "3  Dominguez, Mcmillan and Donovan         Bensonview   \n",
      "4         Martin, Lang and Andrade     West Priscilla   \n",
      "\n",
      "                      Country                 Phone 1                Phone 2  \\\n",
      "0                       Chile            229.077.5154       397.884.0519x718   \n",
      "1                    Djibouti              5153435776       686-620-1820x944   \n",
      "2         Antigua and Barbuda         +1-539-402-0259    (496)978-3969x58947   \n",
      "3          Dominican Republic  001-808-617-6467x12895        +1-813-324-8756   \n",
      "4  Slovakia (Slovak Republic)  001-234-203-0635x76146  001-199-446-3860x3486   \n",
      "\n",
      "                         Email Subscription Date                      Website  \n",
      "0     zunigavanessa@smith.info        2020-08-24   http://www.stephenson.com/  \n",
      "1              vmata@colon.com        2021-04-23        http://www.hobbs.com/  \n",
      "2          beckycarr@hogan.com        2020-03-25     http://www.lawrence.com/  \n",
      "3  stanleyblackwell@benson.org        2020-06-02   http://www.good-lyons.com/  \n",
      "4      colinalvarado@miles.net        2021-04-17  https://goodwin-ingram.com/  \n"
     ]
    }
   ],
   "source": [
    "df=pd.read_csv(filepath)\n",
    "print(df.head(5))\n"
   ],
   "metadata": {
    "collapsed": false,
    "ExecuteTime": {
     "end_time": "2024-05-30T08:45:06.065392Z",
     "start_time": "2024-05-30T08:45:06.038602Z"
    }
   },
   "id": "1761a9b4efa29cd9",
   "execution_count": 5
  },
  {
   "cell_type": "code",
   "outputs": [],
   "source": [
    "## Display the shape of the data frame"
   ],
   "metadata": {
    "collapsed": false
   },
   "id": "f4a20b877d86f3b3"
  },
  {
   "cell_type": "code",
   "outputs": [
    {
     "name": "stdout",
     "output_type": "stream",
     "text": [
      "(100, 12)\n"
     ]
    }
   ],
   "source": [
    "print(df.shape)"
   ],
   "metadata": {
    "collapsed": false,
    "ExecuteTime": {
     "end_time": "2024-05-30T10:42:20.474261Z",
     "start_time": "2024-05-30T10:42:20.456950Z"
    }
   },
   "id": "fd6d19f60b45ebb0",
   "execution_count": 50
  },
  {
   "cell_type": "raw",
   "source": [
    "###Read an Excel file and use head to display the first 5 rows"
   ],
   "metadata": {
    "collapsed": false
   },
   "id": "34b9d625dbedda5c"
  },
  {
   "cell_type": "code",
   "outputs": [
    {
     "name": "stdout",
     "output_type": "stream",
     "text": [
      "  First Name Last Name           City Gender\n",
      "0    Brandon     James          Miami      M\n",
      "1       Sean   Hawkins         Denver      M\n",
      "2       Judy       Day    Los Angeles      F\n",
      "3     Ashley      Ruiz  San Francisco      F\n",
      "4  Stephanie     Gomez       Portland      F\n"
     ]
    }
   ],
   "source": [
    "edf=pd.read_excel(efilepath)\n",
    "print(edf.head(5))"
   ],
   "metadata": {
    "collapsed": false,
    "ExecuteTime": {
     "end_time": "2024-05-30T08:55:38.479365Z",
     "start_time": "2024-05-30T08:55:34.109508Z"
    }
   },
   "id": "5d697fdc32946016",
   "execution_count": 10
  },
  {
   "cell_type": "raw",
   "source": [
    "## creating data frame from dictionary"
   ],
   "metadata": {
    "collapsed": false
   },
   "id": "dafcb2b7f7b1bc1b"
  },
  {
   "cell_type": "code",
   "outputs": [
    {
     "name": "stdout",
     "output_type": "stream",
     "text": [
      "    Name  Age  Height\n",
      "0   John   25     5.6\n",
      "1    Doe   30     5.7\n",
      "2  Smith   35     5.8\n",
      "3   Alex   40     5.9\n",
      "4   John   45     6.0\n"
     ]
    }
   ],
   "source": [
    "details={'Name':['John','Doe','Smith','Alex','John'],'Age': [25,30,35,40,45],'Height':[5.6,5.7,5.8,5.9,6.0]}\n",
    "ddf=pd.DataFrame(details)\n",
    "print(ddf)"
   ],
   "metadata": {
    "collapsed": false,
    "ExecuteTime": {
     "end_time": "2024-05-30T10:11:20.530192Z",
     "start_time": "2024-05-30T10:11:20.514575Z"
    }
   },
   "id": "3de4a072bd26a767",
   "execution_count": 40
  },
  {
   "cell_type": "raw",
   "source": [
    "## Selecting a column"
   ],
   "metadata": {
    "collapsed": false
   },
   "id": "1935353f8f721b54"
  },
  {
   "cell_type": "code",
   "outputs": [
    {
     "name": "stdout",
     "output_type": "stream",
     "text": [
      "    Name\n",
      "0   John\n",
      "1    Doe\n",
      "2  Smith\n",
      "3   Alex\n",
      "4   John\n"
     ]
    }
   ],
   "source": [
    "x=ddf[['Name']]\n",
    "print(x)"
   ],
   "metadata": {
    "collapsed": false,
    "ExecuteTime": {
     "end_time": "2024-05-30T08:59:57.686173Z",
     "start_time": "2024-05-30T08:59:57.193305Z"
    }
   },
   "id": "103ce99ea6651d9f",
   "execution_count": 14
  },
  {
   "cell_type": "raw",
   "source": [
    "## Selecting multiple columns"
   ],
   "metadata": {
    "collapsed": false
   },
   "id": "1648fc9f138a82f3"
  },
  {
   "cell_type": "code",
   "outputs": [
    {
     "name": "stdout",
     "output_type": "stream",
     "text": [
      "    Name  Height\n",
      "0   John     5.6\n",
      "1    Doe     5.7\n",
      "2  Smith     5.8\n",
      "3   Alex     5.9\n",
      "4   John     6.0\n"
     ]
    }
   ],
   "source": [
    "x=ddf[['Name','Height']]\n",
    "print(x)"
   ],
   "metadata": {
    "collapsed": false,
    "ExecuteTime": {
     "end_time": "2024-05-30T10:11:25.717376Z",
     "start_time": "2024-05-30T10:11:25.705723Z"
    }
   },
   "id": "38eb74b16d23d75b",
   "execution_count": 41
  },
  {
   "cell_type": "code",
   "outputs": [
    {
     "name": "stdout",
     "output_type": "stream",
     "text": [
      "    Name  Age  Height\n",
      "a   John   25     5.6\n",
      "b    Doe   30     5.7\n",
      "c  Smith   35     5.8\n",
      "d   Alex   40     5.9\n",
      "e   John   45     6.0\n"
     ]
    }
   ],
   "source": [
    "print(ddf)"
   ],
   "metadata": {
    "collapsed": false,
    "ExecuteTime": {
     "end_time": "2024-05-30T10:10:30.993320Z",
     "start_time": "2024-05-30T10:10:30.986661Z"
    }
   },
   "id": "48da953aab320309",
   "execution_count": 37
  },
  {
   "cell_type": "code",
   "outputs": [],
   "source": [
    "## selecting unique values in a column"
   ],
   "metadata": {
    "collapsed": false
   },
   "id": "91c3bdd4f31825df"
  },
  {
   "cell_type": "code",
   "outputs": [
    {
     "name": "stdout",
     "output_type": "stream",
     "text": [
      "['John' 'Doe' 'Smith' 'Alex']\n"
     ]
    }
   ],
   "source": [
    "uNames=ddf['Name'].unique()\n",
    "print(uNames)"
   ],
   "metadata": {
    "collapsed": false,
    "ExecuteTime": {
     "end_time": "2024-05-30T10:11:38.332922Z",
     "start_time": "2024-05-30T10:11:38.087244Z"
    }
   },
   "id": "1a99a65f6c302524",
   "execution_count": 42
  },
  {
   "cell_type": "code",
   "outputs": [],
   "source": [
    "## Selecting rows based on a condition"
   ],
   "metadata": {
    "collapsed": false
   },
   "id": "bd0efd5c56a02b2f"
  },
  {
   "cell_type": "code",
   "outputs": [
    {
     "name": "stdout",
     "output_type": "stream",
     "text": [
      "    Name  Age  Height\n",
      "1    Doe   30     5.7\n",
      "2  Smith   35     5.8\n",
      "3   Alex   40     5.9\n",
      "4   John   45     6.0\n"
     ]
    }
   ],
   "source": [
    "h=ddf[ddf['Height']>=5.7]\n",
    "print(h)"
   ],
   "metadata": {
    "collapsed": false,
    "ExecuteTime": {
     "end_time": "2024-05-30T10:13:19.730003Z",
     "start_time": "2024-05-30T10:13:19.721524Z"
    }
   },
   "id": "e73f3a0911648e9e",
   "execution_count": 44
  },
  {
   "cell_type": "raw",
   "source": [
    "##selecting a cell value using iloc"
   ],
   "metadata": {
    "collapsed": false
   },
   "id": "632018e61f39b751"
  },
  {
   "cell_type": "code",
   "outputs": [
    {
     "name": "stdout",
     "output_type": "stream",
     "text": [
      "5.6\n"
     ]
    }
   ],
   "source": [
    "print(ddf.iloc[0,2])"
   ],
   "metadata": {
    "collapsed": false,
    "ExecuteTime": {
     "end_time": "2024-05-30T09:07:30.465718Z",
     "start_time": "2024-05-30T09:07:30.456150Z"
    }
   },
   "id": "378ed6694135dd3e",
   "execution_count": 18
  },
  {
   "cell_type": "raw",
   "source": [
    "## selecting a cell value using loc"
   ],
   "metadata": {
    "collapsed": false
   },
   "id": "41280dbe6d4c53b2"
  },
  {
   "cell_type": "code",
   "outputs": [
    {
     "name": "stdout",
     "output_type": "stream",
     "text": [
      "John\n"
     ]
    }
   ],
   "source": [
    "print(ddf.loc[0,'Name'])"
   ],
   "metadata": {
    "collapsed": false,
    "ExecuteTime": {
     "end_time": "2024-05-30T09:08:32.491558Z",
     "start_time": "2024-05-30T09:08:32.473489Z"
    }
   },
   "id": "ab044e3e5616016e",
   "execution_count": 19
  },
  {
   "cell_type": "raw",
   "source": [
    "## selecting a row using iloc"
   ],
   "metadata": {
    "collapsed": false
   },
   "id": "aa5ed30ff2249560"
  },
  {
   "cell_type": "code",
   "outputs": [
    {
     "name": "stdout",
     "output_type": "stream",
     "text": [
      "   Age  Height\n",
      "0   25     5.6\n",
      "1   30     5.7\n",
      "2   35     5.8\n"
     ]
    }
   ],
   "source": [
    "rows=ddf.iloc[0:3,1:3]\n",
    "print(rows)"
   ],
   "metadata": {
    "collapsed": false,
    "ExecuteTime": {
     "end_time": "2024-05-30T09:13:06.161187Z",
     "start_time": "2024-05-30T09:13:06.137799Z"
    }
   },
   "id": "b5fc953e3dbe9b76",
   "execution_count": 23
  },
  {
   "cell_type": "code",
   "outputs": [],
   "source": [
    "## changing the index of the data frame"
   ],
   "metadata": {
    "collapsed": false
   },
   "id": "a2269f8a806640ab"
  },
  {
   "cell_type": "code",
   "outputs": [
    {
     "name": "stdout",
     "output_type": "stream",
     "text": [
      "    Name  Age  Height\n",
      "a   John   25     5.6\n",
      "b    Doe   30     5.7\n",
      "c  Smith   35     5.8\n",
      "d   Alex   40     5.9\n",
      "e   John   45     6.0\n"
     ]
    }
   ],
   "source": [
    "ddfnew=ddf\n",
    "ddfnew.index=['a','b','c','d','e']\n",
    "print(ddfnew)"
   ],
   "metadata": {
    "collapsed": false,
    "ExecuteTime": {
     "end_time": "2024-05-30T09:23:16.799388Z",
     "start_time": "2024-05-30T09:23:16.774878Z"
    }
   },
   "id": "5b2f3f80f08cc234",
   "execution_count": 24
  },
  {
   "cell_type": "code",
   "outputs": [],
   "source": [
    "## saving data frame to csv"
   ],
   "metadata": {
    "collapsed": false
   },
   "id": "4bd4d794e4034d37"
  },
  {
   "cell_type": "code",
   "outputs": [],
   "source": [
    "ddf.to_csv('dict_to_csv.csv',index=False)"
   ],
   "metadata": {
    "collapsed": false,
    "ExecuteTime": {
     "end_time": "2024-05-30T10:16:55.292638Z",
     "start_time": "2024-05-30T10:16:55.282941Z"
    }
   },
   "id": "282ac8d8d9ca1231",
   "execution_count": 46
  },
  {
   "cell_type": "code",
   "outputs": [],
   "source": [
    "## Providing self indexes"
   ],
   "metadata": {
    "collapsed": false
   },
   "id": "2a34359a0950333d"
  },
  {
   "cell_type": "code",
   "outputs": [
    {
     "name": "stdout",
     "output_type": "stream",
     "text": [
      "            Nag      John\n",
      "Prod1     Liked  Disliked\n",
      "Prod2  Disliked     Liked\n"
     ]
    }
   ],
   "source": [
    "prodddf=pd.DataFrame({'Nag' : ['Liked','Disliked'], 'John' : ['Disliked','Liked']},index=['Prod1','Prod2'])\n",
    "print(prodddf)"
   ],
   "metadata": {
    "collapsed": false,
    "ExecuteTime": {
     "end_time": "2024-05-30T10:38:25.174893Z",
     "start_time": "2024-05-30T10:38:25.146914Z"
    }
   },
   "id": "3b8d78efce3d4d5b",
   "execution_count": 47
  },
  {
   "cell_type": "raw",
   "source": [
    "#### dealing with series"
   ],
   "metadata": {
    "collapsed": false
   },
   "id": "8d9c01bebd273c9d"
  },
  {
   "cell_type": "code",
   "outputs": [
    {
     "name": "stdout",
     "output_type": "stream",
     "text": [
      "0     John\n",
      "1      Doe\n",
      "2    Smith\n",
      "3     Alex\n",
      "4     John\n",
      "dtype: object\n"
     ]
    }
   ],
   "source": [
    "data = ['John', 'Doe', 'Smith', 'Alex', 'John']\n",
    "print(pd.Series(data))"
   ],
   "metadata": {
    "collapsed": false,
    "ExecuteTime": {
     "end_time": "2024-05-30T09:53:21.475042Z",
     "start_time": "2024-05-30T09:53:21.467618Z"
    }
   },
   "id": "cfde87b9e802c26a",
   "execution_count": 26
  },
  {
   "cell_type": "code",
   "outputs": [
    {
     "name": "stdout",
     "output_type": "stream",
     "text": [
      "John\n"
     ]
    },
    {
     "name": "stderr",
     "output_type": "stream",
     "text": [
      "C:\\Users\\LENOVO\\AppData\\Local\\Temp\\ipykernel_4504\\3668550481.py:2: FutureWarning: Series.__getitem__ treating keys as positions is deprecated. In a future version, integer keys will always be treated as labels (consistent with DataFrame behavior). To access a value by position, use `ser.iloc[pos]`\n",
      "  print(S[0])\n"
     ]
    }
   ],
   "source": [
    "S=pd.Series(data,index=['a','b','c','d','e'])\n",
    "print(S[0])"
   ],
   "metadata": {
    "collapsed": false,
    "ExecuteTime": {
     "end_time": "2024-05-30T10:01:41.172284Z",
     "start_time": "2024-05-30T10:01:40.269248Z"
    }
   },
   "id": "a92b8bd7886da602",
   "execution_count": 28
  },
  {
   "cell_type": "code",
   "outputs": [
    {
     "name": "stdout",
     "output_type": "stream",
     "text": [
      "John\n"
     ]
    }
   ],
   "source": [
    "print(S['a'])"
   ],
   "metadata": {
    "collapsed": false,
    "ExecuteTime": {
     "end_time": "2024-05-30T10:02:10.390362Z",
     "start_time": "2024-05-30T10:02:10.130322Z"
    }
   },
   "id": "98fa978b5275d08c",
   "execution_count": 29
  },
  {
   "cell_type": "code",
   "outputs": [
    {
     "name": "stdout",
     "output_type": "stream",
     "text": [
      "John\n"
     ]
    }
   ],
   "source": [
    "print(S.iloc[0])"
   ],
   "metadata": {
    "collapsed": false,
    "ExecuteTime": {
     "end_time": "2024-05-30T10:03:15.140571Z",
     "start_time": "2024-05-30T10:03:15.119182Z"
    }
   },
   "id": "183e12f797226bfd",
   "execution_count": 30
  },
  {
   "cell_type": "code",
   "outputs": [
    {
     "name": "stdout",
     "output_type": "stream",
     "text": [
      "John\n"
     ]
    }
   ],
   "source": [
    "print(S.loc['a'])"
   ],
   "metadata": {
    "collapsed": false,
    "ExecuteTime": {
     "end_time": "2024-05-30T10:03:36.334374Z",
     "start_time": "2024-05-30T10:03:36.272664Z"
    }
   },
   "id": "c45a5de5e6115ec7",
   "execution_count": 31
  },
  {
   "cell_type": "code",
   "outputs": [
    {
     "name": "stdout",
     "output_type": "stream",
     "text": [
      "4\n"
     ]
    }
   ],
   "source": [
    "print(S.nunique())"
   ],
   "metadata": {
    "collapsed": false,
    "ExecuteTime": {
     "end_time": "2024-05-30T10:16:21.840784Z",
     "start_time": "2024-05-30T10:16:21.826886Z"
    }
   },
   "id": "d269d237629d9407",
   "execution_count": 45
  },
  {
   "cell_type": "code",
   "outputs": [
    {
     "name": "stdout",
     "output_type": "stream",
     "text": [
      "a     John\n",
      "b      Doe\n",
      "c    Smith\n",
      "dtype: object\n"
     ]
    }
   ],
   "source": [
    "print(S[0:3])"
   ],
   "metadata": {
    "collapsed": false,
    "ExecuteTime": {
     "end_time": "2024-05-30T10:09:09.115981Z",
     "start_time": "2024-05-30T10:09:09.108486Z"
    }
   },
   "id": "ee6f0539ed8098dc",
   "execution_count": 35
  },
  {
   "cell_type": "code",
   "outputs": [
    {
     "name": "stdout",
     "output_type": "stream",
     "text": [
      "a    1\n",
      "b    2\n",
      "c    3\n",
      "d    4\n",
      "e    5\n",
      "Name: Series, dtype: int64\n"
     ]
    }
   ],
   "source": [
    "print(pd.Series([1,2,3,4,5],index=['a','b','c','d','e'],name='Series'))"
   ],
   "metadata": {
    "collapsed": false,
    "ExecuteTime": {
     "end_time": "2024-05-30T10:40:21.937525Z",
     "start_time": "2024-05-30T10:40:21.905503Z"
    }
   },
   "id": "ae890f3c6a2f03ec",
   "execution_count": 48
  },
  {
   "cell_type": "code",
   "outputs": [],
   "source": [],
   "metadata": {
    "collapsed": false
   },
   "id": "a1f03c454b0bf737"
  }
 ],
 "metadata": {
  "kernelspec": {
   "display_name": "Python 3",
   "language": "python",
   "name": "python3"
  },
  "language_info": {
   "codemirror_mode": {
    "name": "ipython",
    "version": 2
   },
   "file_extension": ".py",
   "mimetype": "text/x-python",
   "name": "python",
   "nbconvert_exporter": "python",
   "pygments_lexer": "ipython2",
   "version": "2.7.6"
  }
 },
 "nbformat": 4,
 "nbformat_minor": 5
}
