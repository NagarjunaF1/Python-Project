{
 "cells": [
  {
   "cell_type": "markdown",
   "source": [
    "### Write a program to read a file and print the content of the file"
   ],
   "metadata": {
    "collapsed": false
   },
   "id": "ea8ee0cfcc3d0ccb"
  },
  {
   "cell_type": "code",
   "outputs": [
    {
     "name": "stdout",
     "output_type": "stream",
     "text": [
      "This is line 1\n",
      "This is line 2\n",
      "This is line 3\n"
     ]
    }
   ],
   "source": [
    "file1=open('TextFile1.txt','r')\n",
    "data=file1.read()\n",
    "print(data)\n",
    "file1.close()"
   ],
   "metadata": {
    "collapsed": true,
    "ExecuteTime": {
     "end_time": "2024-05-30T06:24:42.827957Z",
     "start_time": "2024-05-30T06:24:42.811879Z"
    }
   },
   "id": "initial_id",
   "execution_count": 2
  },
  {
   "cell_type": "raw",
   "source": [
    "  // ## Write a program to read a file and print the content of the file using with statement"
   ],
   "metadata": {
    "collapsed": false
   },
   "id": "7414edb045340115"
  },
  {
   "cell_type": "code",
   "outputs": [
    {
     "name": "stdout",
     "output_type": "stream",
     "text": [
      "This is line 1\n",
      "\n",
      "This is line 2\n",
      "\n",
      "This is line 3\n"
     ]
    }
   ],
   "source": [
    "with open('TextFile1.txt','r') as file1:\n",
    "    data=file1.readline()\n",
    "    print(data)\n",
    "    data=file1.readline()\n",
    "    print(data)\n",
    "    data=file1.readline()\n",
    "    print(data)\n",
    "    file1.close()"
   ],
   "metadata": {
    "collapsed": false,
    "ExecuteTime": {
     "end_time": "2024-05-30T06:30:52.275351Z",
     "start_time": "2024-05-30T06:30:52.266129Z"
    }
   },
   "id": "d107da31b5a49231",
   "execution_count": 5
  },
  {
   "cell_type": "code",
   "outputs": [
    {
     "name": "stdout",
     "output_type": "stream",
     "text": [
      "This is line 1\n",
      "This is line 2\n",
      "This is line 3\n"
     ]
    }
   ],
   "source": [
    "with open('TextFile1.txt','r') as file1:\n",
    "    data=file1.read()\n",
    "    print(data)\n",
    "    file1.close()"
   ],
   "metadata": {
    "collapsed": false,
    "ExecuteTime": {
     "end_time": "2024-05-30T06:27:08.702394Z",
     "start_time": "2024-05-30T06:27:08.667233Z"
    }
   },
   "id": "dd704ccd10bf0ff4",
   "execution_count": 3
  },
  {
   "cell_type": "raw",
   "source": [
    "### Write a program to read a file and print the content of the file using for loop"
   ],
   "metadata": {
    "collapsed": false
   },
   "id": "b0e3573415b08313"
  },
  {
   "cell_type": "code",
   "outputs": [
    {
     "name": "stdout",
     "output_type": "stream",
     "text": [
      "This is line 1\n",
      "\n",
      "This is line 2\n",
      "\n",
      "This is line 3\n"
     ]
    }
   ],
   "source": [
    "with open('TextFile1.txt','r') as file1:\n",
    "    for line in file1:\n",
    "        print(line)\n",
    "    file1.close()"
   ],
   "metadata": {
    "collapsed": false,
    "ExecuteTime": {
     "end_time": "2024-05-30T06:37:54.366321Z",
     "start_time": "2024-05-30T06:37:54.358805Z"
    }
   },
   "id": "7e229cb32a9c97b",
   "execution_count": 15
  },
  {
   "cell_type": "raw",
   "source": [
    "### Write a program to read a file and print the content of the file using for loop"
   ],
   "metadata": {
    "collapsed": false
   },
   "id": "41609e954f0401a5"
  },
  {
   "cell_type": "code",
   "outputs": [
    {
     "name": "stdout",
     "output_type": "stream",
     "text": [
      "This is line 1\n",
      "This is line 2\n",
      "\n",
      "This is line 3\n"
     ]
    }
   ],
   "source": [
    "with open('TextFile1.txt','r') as file2:\n",
    "    for line in file2:\n",
    "        print(line,end='')\n",
    "    file2.close()"
   ],
   "metadata": {
    "collapsed": false,
    "ExecuteTime": {
     "end_time": "2024-05-30T06:40:51.560895Z",
     "start_time": "2024-05-30T06:40:51.547712Z"
    }
   },
   "id": "ec779fc65889c608",
   "execution_count": 19
  },
  {
   "cell_type": "code",
   "outputs": [],
   "source": [],
   "metadata": {
    "collapsed": false
   },
   "id": "c9bfca37cac60c39"
  },
  {
   "cell_type": "code",
   "outputs": [
    {
     "ename": "TypeError",
     "evalue": "list.count() takes exactly one argument (0 given)",
     "output_type": "error",
     "traceback": [
      "\u001B[1;31m---------------------------------------------------------------------------\u001B[0m",
      "\u001B[1;31mTypeError\u001B[0m                                 Traceback (most recent call last)",
      "Cell \u001B[1;32mIn[20], line 2\u001B[0m\n\u001B[0;32m      1\u001B[0m \u001B[38;5;28;01mwith\u001B[39;00m \u001B[38;5;28mopen\u001B[39m(\u001B[38;5;124m'\u001B[39m\u001B[38;5;124mTextFile1.txt\u001B[39m\u001B[38;5;124m'\u001B[39m,\u001B[38;5;124m'\u001B[39m\u001B[38;5;124mr\u001B[39m\u001B[38;5;124m'\u001B[39m) \u001B[38;5;28;01mas\u001B[39;00m file2:\n\u001B[1;32m----> 2\u001B[0m     \u001B[38;5;28mprint\u001B[39m(\u001B[43mfile2\u001B[49m\u001B[38;5;241;43m.\u001B[39;49m\u001B[43mreadlines\u001B[49m\u001B[43m(\u001B[49m\u001B[43m)\u001B[49m\u001B[38;5;241;43m.\u001B[39;49m\u001B[43mcount\u001B[49m\u001B[43m(\u001B[49m\u001B[43m)\u001B[49m)\n\u001B[0;32m      3\u001B[0m     file2\u001B[38;5;241m.\u001B[39mclose()\n",
      "\u001B[1;31mTypeError\u001B[0m: list.count() takes exactly one argument (0 given)"
     ]
    }
   ],
   "source": [
    "with open('TextFile1.txt','r') as file2:\n",
    "    print(file2.readlines().count())\n",
    "    file2.close()"
   ],
   "metadata": {
    "collapsed": false,
    "ExecuteTime": {
     "end_time": "2024-05-30T06:43:42.863363Z",
     "start_time": "2024-05-30T06:43:42.738431Z"
    }
   },
   "id": "b4fbd73565515c1d",
   "execution_count": 20
  },
  {
   "cell_type": "code",
   "outputs": [],
   "source": [
    "with open('TextFile2.txt','w') as writefile,open('TextFile1.txt','r') as readfile:\n",
    "    for line in readfile:\n",
    "        writefile.write(line)\n",
    "    writefile.close()\n",
    "    readfile.close()\n",
    "        "
   ],
   "metadata": {
    "collapsed": false,
    "ExecuteTime": {
     "end_time": "2024-05-30T06:46:59.153081Z",
     "start_time": "2024-05-30T06:46:59.138653Z"
    }
   },
   "id": "f0f405b40b1eb1fe",
   "execution_count": 21
  },
  {
   "cell_type": "code",
   "outputs": [],
   "source": [],
   "metadata": {
    "collapsed": false
   },
   "id": "800fd0eabd56fcd2"
  }
 ],
 "metadata": {
  "kernelspec": {
   "display_name": "Python 3",
   "language": "python",
   "name": "python3"
  },
  "language_info": {
   "codemirror_mode": {
    "name": "ipython",
    "version": 2
   },
   "file_extension": ".py",
   "mimetype": "text/x-python",
   "name": "python",
   "nbconvert_exporter": "python",
   "pygments_lexer": "ipython2",
   "version": "2.7.6"
  }
 },
 "nbformat": 4,
 "nbformat_minor": 5
}
